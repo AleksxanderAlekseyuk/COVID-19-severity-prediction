{
  "nbformat": 4,
  "nbformat_minor": 0,
  "metadata": {
    "colab": {
      "name": "COVID_Severity.ipynb",
      "provenance": [],
      "collapsed_sections": []
    },
    "kernelspec": {
      "name": "python3",
      "display_name": "Python 3"
    },
    "language_info": {
      "name": "python"
    }
  },
  "cells": [
    {
      "cell_type": "markdown",
      "metadata": {
        "id": "UcFm4N3sN8Ub"
      },
      "source": [
        "# Импорт библиотек"
      ]
    },
    {
      "cell_type": "code",
      "metadata": {
        "colab": {
          "base_uri": "https://localhost:8080/",
          "height": 1000
        },
        "id": "zI1lcugPhdmf",
        "outputId": "6770eb4f-7b73-4732-8c5d-6e873ff7d4ef"
      },
      "source": [
        "import pandas as pd\n",
        "import numpy as np\n",
        "from scipy import stats\n",
        "import matplotlib.pyplot as plt\n",
        "from scipy.stats import mannwhitneyu,ttest_ind, kruskal,chisquare, pearsonr, spearmanr\n",
        "!pip install h2o\n",
        "import h2o\n",
        "h2o.init()\n",
        "from h2o.automl import H2OAutoML\n",
        "from h2o.estimators.gbm import H2OGradientBoostingEstimator\n",
        "from h2o.estimators import H2OIsolationForestEstimator\n",
        "from h2o.estimators import H2ORandomForestEstimator\n",
        "from h2o.estimators import H2OSupportVectorMachineEstimator\n",
        "from h2o.grid.grid_search import H2OGridSearch\n",
        "\n",
        "\n"
      ],
      "execution_count": null,
      "outputs": [
        {
          "output_type": "stream",
          "text": [
            "Collecting colorama\n",
            "  Downloading https://files.pythonhosted.org/packages/44/98/5b86278fbbf250d239ae0ecb724f8572af1c91f4a11edf4d36a206189440/colorama-0.4.4-py2.py3-none-any.whl\n",
            "Installing collected packages: colorama\n",
            "Successfully installed colorama-0.4.4\n"
          ],
          "name": "stdout"
        },
        {
          "output_type": "stream",
          "text": [
            "/usr/local/lib/python3.7/dist-packages/statsmodels/tools/_testing.py:19: FutureWarning:\n",
            "\n",
            "pandas.util.testing is deprecated. Use the functions in the public API at pandas.testing instead.\n",
            "\n"
          ],
          "name": "stderr"
        },
        {
          "output_type": "display_data",
          "data": {
            "text/html": [
              "        <script type=\"text/javascript\">\n",
              "        window.PlotlyConfig = {MathJaxConfig: 'local'};\n",
              "        if (window.MathJax) {MathJax.Hub.Config({SVG: {font: \"STIX-Web\"}});}\n",
              "        if (typeof require !== 'undefined') {\n",
              "        require.undef(\"plotly\");\n",
              "        requirejs.config({\n",
              "            paths: {\n",
              "                'plotly': ['https://cdn.plot.ly/plotly-latest.min']\n",
              "            }\n",
              "        });\n",
              "        require(['plotly'], function(Plotly) {\n",
              "            window._Plotly = Plotly;\n",
              "        });\n",
              "        }\n",
              "        </script>\n",
              "        "
            ]
          },
          "metadata": {
            "tags": []
          }
        },
        {
          "output_type": "display_data",
          "data": {
            "text/html": [
              "        <script type=\"text/javascript\">\n",
              "        window.PlotlyConfig = {MathJaxConfig: 'local'};\n",
              "        if (window.MathJax) {MathJax.Hub.Config({SVG: {font: \"STIX-Web\"}});}\n",
              "        if (typeof require !== 'undefined') {\n",
              "        require.undef(\"plotly\");\n",
              "        requirejs.config({\n",
              "            paths: {\n",
              "                'plotly': ['https://cdn.plot.ly/plotly-latest.min']\n",
              "            }\n",
              "        });\n",
              "        require(['plotly'], function(Plotly) {\n",
              "            window._Plotly = Plotly;\n",
              "        });\n",
              "        }\n",
              "        </script>\n",
              "        "
            ]
          },
          "metadata": {
            "tags": []
          }
        },
        {
          "output_type": "stream",
          "text": [
            "Collecting catboost\n",
            "\u001b[?25l  Downloading https://files.pythonhosted.org/packages/96/3b/bb419654adcf7efff42ed8a3f84e50c8f236424b7ed1cc8ccd290852e003/catboost-0.24.4-cp37-none-manylinux1_x86_64.whl (65.7MB)\n",
            "\u001b[K     |████████████████████████████████| 65.7MB 104kB/s \n",
            "\u001b[?25hRequirement already satisfied: scipy in /usr/local/lib/python3.7/dist-packages (from catboost) (1.4.1)\n",
            "Requirement already satisfied: pandas>=0.24.0 in /usr/local/lib/python3.7/dist-packages (from catboost) (1.1.5)\n",
            "Requirement already satisfied: six in /usr/local/lib/python3.7/dist-packages (from catboost) (1.15.0)\n",
            "Requirement already satisfied: numpy>=1.16.0 in /usr/local/lib/python3.7/dist-packages (from catboost) (1.19.5)\n",
            "Requirement already satisfied: graphviz in /usr/local/lib/python3.7/dist-packages (from catboost) (0.10.1)\n",
            "Requirement already satisfied: plotly in /usr/local/lib/python3.7/dist-packages (from catboost) (4.4.1)\n",
            "Requirement already satisfied: matplotlib in /usr/local/lib/python3.7/dist-packages (from catboost) (3.2.2)\n",
            "Requirement already satisfied: python-dateutil>=2.7.3 in /usr/local/lib/python3.7/dist-packages (from pandas>=0.24.0->catboost) (2.8.1)\n",
            "Requirement already satisfied: pytz>=2017.2 in /usr/local/lib/python3.7/dist-packages (from pandas>=0.24.0->catboost) (2018.9)\n",
            "Requirement already satisfied: retrying>=1.3.3 in /usr/local/lib/python3.7/dist-packages (from plotly->catboost) (1.3.3)\n",
            "Requirement already satisfied: pyparsing!=2.0.4,!=2.1.2,!=2.1.6,>=2.0.1 in /usr/local/lib/python3.7/dist-packages (from matplotlib->catboost) (2.4.7)\n",
            "Requirement already satisfied: kiwisolver>=1.0.1 in /usr/local/lib/python3.7/dist-packages (from matplotlib->catboost) (1.3.1)\n",
            "Requirement already satisfied: cycler>=0.10 in /usr/local/lib/python3.7/dist-packages (from matplotlib->catboost) (0.10.0)\n",
            "Installing collected packages: catboost\n",
            "Successfully installed catboost-0.24.4\n",
            "Collecting h2o\n",
            "\u001b[?25l  Downloading https://files.pythonhosted.org/packages/32/86/b64475aa453185c594c861c1937bad77dfef2ce1295b850c46e295ae4f18/h2o-3.32.0.5.tar.gz (164.6MB)\n",
            "\u001b[K     |████████████████████████████████| 164.6MB 84kB/s \n",
            "\u001b[?25hRequirement already satisfied: requests in /usr/local/lib/python3.7/dist-packages (from h2o) (2.23.0)\n",
            "Requirement already satisfied: tabulate in /usr/local/lib/python3.7/dist-packages (from h2o) (0.8.9)\n",
            "Requirement already satisfied: future in /usr/local/lib/python3.7/dist-packages (from h2o) (0.16.0)\n",
            "Requirement already satisfied: colorama>=0.3.8 in /usr/local/lib/python3.7/dist-packages (from h2o) (0.4.4)\n",
            "Requirement already satisfied: certifi>=2017.4.17 in /usr/local/lib/python3.7/dist-packages (from requests->h2o) (2020.12.5)\n",
            "Requirement already satisfied: chardet<4,>=3.0.2 in /usr/local/lib/python3.7/dist-packages (from requests->h2o) (3.0.4)\n",
            "Requirement already satisfied: urllib3!=1.25.0,!=1.25.1,<1.26,>=1.21.1 in /usr/local/lib/python3.7/dist-packages (from requests->h2o) (1.24.3)\n",
            "Requirement already satisfied: idna<3,>=2.5 in /usr/local/lib/python3.7/dist-packages (from requests->h2o) (2.10)\n",
            "Building wheels for collected packages: h2o\n",
            "  Building wheel for h2o (setup.py) ... \u001b[?25l\u001b[?25hdone\n",
            "  Created wheel for h2o: filename=h2o-3.32.0.5-py2.py3-none-any.whl size=164673888 sha256=404e7a6160598db4f0aef96414bea520feb03e799a106dbcace74fbad5239b12\n",
            "  Stored in directory: /root/.cache/pip/wheels/f7/54/f6/f88d58b676e135bbab981238fcf77f27161ec02b7cc893d8c7\n",
            "Successfully built h2o\n",
            "Installing collected packages: h2o\n",
            "Successfully installed h2o-3.32.0.5\n",
            "Checking whether there is an H2O instance running at http://localhost:54321 ..... not found.\n",
            "Attempting to start a local H2O server...\n",
            "  Java Version: openjdk version \"11.0.10\" 2021-01-19; OpenJDK Runtime Environment (build 11.0.10+9-Ubuntu-0ubuntu1.18.04); OpenJDK 64-Bit Server VM (build 11.0.10+9-Ubuntu-0ubuntu1.18.04, mixed mode, sharing)\n",
            "  Starting server from /usr/local/lib/python3.7/dist-packages/h2o/backend/bin/h2o.jar\n",
            "  Ice root: /tmp/tmpny_mfda5\n",
            "  JVM stdout: /tmp/tmpny_mfda5/h2o_unknownUser_started_from_python.out\n",
            "  JVM stderr: /tmp/tmpny_mfda5/h2o_unknownUser_started_from_python.err\n",
            "  Server is running at http://127.0.0.1:54321\n",
            "Connecting to H2O server at http://127.0.0.1:54321 ... successful.\n"
          ],
          "name": "stdout"
        },
        {
          "output_type": "display_data",
          "data": {
            "text/html": [
              "<div style=\"overflow:auto\"><table style=\"width:50%\"><tr><td>H2O_cluster_uptime:</td>\n",
              "<td>03 secs</td></tr>\n",
              "<tr><td>H2O_cluster_timezone:</td>\n",
              "<td>Etc/UTC</td></tr>\n",
              "<tr><td>H2O_data_parsing_timezone:</td>\n",
              "<td>UTC</td></tr>\n",
              "<tr><td>H2O_cluster_version:</td>\n",
              "<td>3.32.0.5</td></tr>\n",
              "<tr><td>H2O_cluster_version_age:</td>\n",
              "<td>4 days </td></tr>\n",
              "<tr><td>H2O_cluster_name:</td>\n",
              "<td>H2O_from_python_unknownUser_cqzloz</td></tr>\n",
              "<tr><td>H2O_cluster_total_nodes:</td>\n",
              "<td>1</td></tr>\n",
              "<tr><td>H2O_cluster_free_memory:</td>\n",
              "<td>3.180 Gb</td></tr>\n",
              "<tr><td>H2O_cluster_total_cores:</td>\n",
              "<td>2</td></tr>\n",
              "<tr><td>H2O_cluster_allowed_cores:</td>\n",
              "<td>2</td></tr>\n",
              "<tr><td>H2O_cluster_status:</td>\n",
              "<td>accepting new members, healthy</td></tr>\n",
              "<tr><td>H2O_connection_url:</td>\n",
              "<td>http://127.0.0.1:54321</td></tr>\n",
              "<tr><td>H2O_connection_proxy:</td>\n",
              "<td>{\"http\": null, \"https\": null}</td></tr>\n",
              "<tr><td>H2O_internal_security:</td>\n",
              "<td>False</td></tr>\n",
              "<tr><td>H2O_API_Extensions:</td>\n",
              "<td>Amazon S3, XGBoost, Algos, AutoML, Core V3, TargetEncoder, Core V4</td></tr>\n",
              "<tr><td>Python_version:</td>\n",
              "<td>3.7.10 final</td></tr></table></div>"
            ],
            "text/plain": [
              "--------------------------  ------------------------------------------------------------------\n",
              "H2O_cluster_uptime:         03 secs\n",
              "H2O_cluster_timezone:       Etc/UTC\n",
              "H2O_data_parsing_timezone:  UTC\n",
              "H2O_cluster_version:        3.32.0.5\n",
              "H2O_cluster_version_age:    4 days\n",
              "H2O_cluster_name:           H2O_from_python_unknownUser_cqzloz\n",
              "H2O_cluster_total_nodes:    1\n",
              "H2O_cluster_free_memory:    3.180 Gb\n",
              "H2O_cluster_total_cores:    2\n",
              "H2O_cluster_allowed_cores:  2\n",
              "H2O_cluster_status:         accepting new members, healthy\n",
              "H2O_connection_url:         http://127.0.0.1:54321\n",
              "H2O_connection_proxy:       {\"http\": null, \"https\": null}\n",
              "H2O_internal_security:      False\n",
              "H2O_API_Extensions:         Amazon S3, XGBoost, Algos, AutoML, Core V3, TargetEncoder, Core V4\n",
              "Python_version:             3.7.10 final\n",
              "--------------------------  ------------------------------------------------------------------"
            ]
          },
          "metadata": {
            "tags": []
          }
        }
      ]
    },
    {
      "cell_type": "code",
      "metadata": {
        "colab": {
          "base_uri": "https://localhost:8080/"
        },
        "id": "-1mQj-KrYyCk",
        "outputId": "9c13c0f4-5c83-4557-f329-53ad101ecebe"
      },
      "source": [
        "data.columns"
      ],
      "execution_count": null,
      "outputs": [
        {
          "output_type": "execute_result",
          "data": {
            "text/plain": [
              "Index(['Max_Platlets', 'Min_Platlets', 'Init_ESR', 'Max_ESR',\n",
              "       'Init_Fibrinogen', 'Max_Fibrinogen', 'Initial_LDH', 'Max_LDH',\n",
              "       'Max_Leucocytes', 'Min_Leucocytes', 'Hemoglobin', 'Max_Creatinine',\n",
              "       'Min_Cratinine', 'Gender', 'initial_CRP', 'Max_CRP', 'Treatment',\n",
              "       'Diagnosis', 'COVID-19', 'Pneumonia', 'Severity', 'IHD', 'COPD',\n",
              "       'Bronchial_asthma', 'Obesity', 'Diabetes', 'RF', 'ALT', 'AST',\n",
              "       'duration', 'Age', 'Max_Creatinine_mg_dl', 'GFR', 'L/Pl_Ratio'],\n",
              "      dtype='object')"
            ]
          },
          "metadata": {
            "tags": []
          },
          "execution_count": 28
        }
      ]
    },
    {
      "cell_type": "code",
      "metadata": {
        "id": "W5P9tsMAFnwj"
      },
      "source": [
        "data = pd.read_csv('/content/Severity_COVID.csv')"
      ],
      "execution_count": null,
      "outputs": []
    },
    {
      "cell_type": "code",
      "metadata": {
        "id": "46z8m3eVUfCH"
      },
      "source": [
        "data['Gender'] = data['Gender'].map({'male':1, 'female':0})"
      ],
      "execution_count": null,
      "outputs": []
    },
    {
      "cell_type": "code",
      "metadata": {
        "id": "LBTjhERdZFNE"
      },
      "source": [
        "columns = ['Max_Platlets',  'Max_ESR',\n",
        "       'Max_Fibrinogen', 'Max_LDH',\n",
        "       'Max_Leucocytes',   'Max_Creatinine',\n",
        "      'Max_CRP', \n",
        "       'ALT', 'AST', 'Age']"
      ],
      "execution_count": null,
      "outputs": []
    },
    {
      "cell_type": "code",
      "metadata": {
        "id": "aO4tnto4ZbOW"
      },
      "source": [
        "sevi = ['Severity']"
      ],
      "execution_count": null,
      "outputs": []
    },
    {
      "cell_type": "markdown",
      "metadata": {
        "id": "X6SXMrnEOBl5"
      },
      "source": [
        "# Статистический анализ"
      ]
    },
    {
      "cell_type": "code",
      "metadata": {
        "colab": {
          "base_uri": "https://localhost:8080/"
        },
        "id": "xyn-iwfgZUmJ",
        "outputId": "76482df9-7b08-46a5-ddba-5a5aa6e7906f"
      },
      "source": [
        "for sev in sevi:\n",
        "  df_s = data[data[sev] == 1]\n",
        "  df_m = data[data[sev] == 0]\n",
        "  for cat in columns:\n",
        "    lst1 = df_s[cat]\n",
        "    lst2 = df_m[cat]\n",
        "    shapiro_test = stats.shapiro(lst1) # тест шапиро-уилка\n",
        "    shapiro_test2 = stats.shapiro(lst2) # тест шапиро-уилка\n",
        "    if shapiro_test[1] < .05:\n",
        "      print('1Данные {0} распределены ненормально,\\\n",
        "            p-value - {1}'.format(cat,  shapiro_test[1]))\n",
        "    if shapiro_test2[1] < .05:\n",
        "      print('0Данные {0} распределены ненормально,\\\n",
        "            p-value - {1}'.format(cat,  shapiro_test2[1]))\n",
        "    else:\n",
        "      pass"
      ],
      "execution_count": null,
      "outputs": [
        {
          "output_type": "stream",
          "text": [
            "0Данные Max_Platlets распределены ненормально,            p-value - 0.03815307468175888\n",
            "1Данные Max_ESR распределены ненормально,            p-value - 0.026598751544952393\n",
            "1Данные Max_LDH распределены ненормально,            p-value - 0.002017637249082327\n",
            "0Данные Max_LDH распределены ненормально,            p-value - 1.4950542193137295e-10\n",
            "0Данные Max_Leucocytes распределены ненормально,            p-value - 4.673117086785158e-22\n",
            "1Данные Max_Creatinine распределены ненормально,            p-value - 1.2878687699613423e-11\n",
            "0Данные Max_Creatinine распределены ненормально,            p-value - 1.3073617743941668e-09\n",
            "1Данные Max_CRP распределены ненормально,            p-value - 0.0006246382254175842\n",
            "0Данные Max_CRP распределены ненормально,            p-value - 3.8747624553359117e-10\n",
            "1Данные ALT распределены ненормально,            p-value - 3.253442515394056e-10\n",
            "0Данные ALT распределены ненормально,            p-value - 1.2806048756142108e-11\n",
            "1Данные AST распределены ненормально,            p-value - 7.554177500423975e-06\n",
            "0Данные AST распределены ненормально,            p-value - 1.669005753913988e-12\n"
          ],
          "name": "stdout"
        }
      ]
    },
    {
      "cell_type": "code",
      "metadata": {
        "colab": {
          "base_uri": "https://localhost:8080/"
        },
        "id": "xaQPSOc5Y6fW",
        "outputId": "7ab9945a-6305-4351-a61f-b716e640af2a"
      },
      "source": [
        "data[data[sev] == 1]['Max_Platlets'].describe()"
      ],
      "execution_count": null,
      "outputs": [
        {
          "output_type": "execute_result",
          "data": {
            "text/plain": [
              "count     53.000000\n",
              "mean     341.188679\n",
              "std      112.054770\n",
              "min      100.000000\n",
              "25%      257.000000\n",
              "50%      356.000000\n",
              "75%      428.000000\n",
              "max      579.000000\n",
              "Name: Max_Platlets, dtype: float64"
            ]
          },
          "metadata": {
            "tags": []
          },
          "execution_count": 53
        }
      ]
    },
    {
      "cell_type": "code",
      "metadata": {
        "colab": {
          "base_uri": "https://localhost:8080/"
        },
        "id": "KdNTNDMlcJaL",
        "outputId": "6fb7a831-b974-4bed-8cc6-71d20da23a1b"
      },
      "source": [
        "data[data[sev] == 0]['Max_ESR'].describe()"
      ],
      "execution_count": null,
      "outputs": [
        {
          "output_type": "execute_result",
          "data": {
            "text/plain": [
              "count    106.000000\n",
              "mean      30.537736\n",
              "std       14.635361\n",
              "min        2.000000\n",
              "25%       20.000000\n",
              "50%       29.000000\n",
              "75%       40.000000\n",
              "max       65.000000\n",
              "Name: Max_ESR, dtype: float64"
            ]
          },
          "metadata": {
            "tags": []
          },
          "execution_count": 54
        }
      ]
    },
    {
      "cell_type": "code",
      "metadata": {
        "colab": {
          "base_uri": "https://localhost:8080/"
        },
        "id": "K2RpydyzcUmF",
        "outputId": "24b3d8a2-c7dd-40d3-c0ac-9b5ab754d56b"
      },
      "source": [
        "data[data[sev] == 1]['Max_Leucocytes'].describe()"
      ],
      "execution_count": null,
      "outputs": [
        {
          "output_type": "execute_result",
          "data": {
            "text/plain": [
              "count    53.000000\n",
              "mean     11.622830\n",
              "std       3.869724\n",
              "min       2.950000\n",
              "25%       9.650000\n",
              "50%      11.760000\n",
              "75%      13.500000\n",
              "max      21.220000\n",
              "Name: Max_Leucocytes, dtype: float64"
            ]
          },
          "metadata": {
            "tags": []
          },
          "execution_count": 57
        }
      ]
    },
    {
      "cell_type": "code",
      "metadata": {
        "colab": {
          "base_uri": "https://localhost:8080/"
        },
        "id": "1gpU__yqci41",
        "outputId": "cac673ec-d7f7-483f-b94e-198e82407afb"
      },
      "source": [
        "data[data[sev] == 1]['Age'].describe()"
      ],
      "execution_count": null,
      "outputs": [
        {
          "output_type": "execute_result",
          "data": {
            "text/plain": [
              "count    53.000000\n",
              "mean     64.075472\n",
              "std      14.432667\n",
              "min      36.000000\n",
              "25%      54.000000\n",
              "50%      65.000000\n",
              "75%      76.000000\n",
              "max      91.000000\n",
              "Name: Age, dtype: float64"
            ]
          },
          "metadata": {
            "tags": []
          },
          "execution_count": 58
        }
      ]
    },
    {
      "cell_type": "code",
      "metadata": {
        "colab": {
          "base_uri": "https://localhost:8080/"
        },
        "id": "fq0d4Ttfckar",
        "outputId": "517df04a-c0fd-46a9-a3d1-da518051d9b2"
      },
      "source": [
        "data[data[sev] == 0]['Age'].describe()"
      ],
      "execution_count": null,
      "outputs": [
        {
          "output_type": "execute_result",
          "data": {
            "text/plain": [
              "count    106.000000\n",
              "mean      61.566038\n",
              "std       13.486515\n",
              "min       33.000000\n",
              "25%       52.000000\n",
              "50%       61.000000\n",
              "75%       70.000000\n",
              "max       90.000000\n",
              "Name: Age, dtype: float64"
            ]
          },
          "metadata": {
            "tags": []
          },
          "execution_count": 59
        }
      ]
    },
    {
      "cell_type": "code",
      "metadata": {
        "id": "f-1QTheLZjet"
      },
      "source": [
        "def Basic_statistics(lst_1, lst_2):\n",
        "    \"\"\" \n",
        "    Функция \"Базовые статистики\"\n",
        "\n",
        "    На вход получает 2 списка данных для сравнения.\n",
        "    На выходе получаем p-values, при сравнении признаков. \n",
        "    \n",
        "    \"\"\"\n",
        "    res_mw = mannwhitneyu(lst_1, lst_2, \n",
        "                       use_continuity=True, \n",
        "                       alternative=None) # u -тест манна-уитни\n",
        "    res_kw = kruskal(lst_1, lst_2)## краскела уолиса\n",
        "    anova = stats.f_oneway(lst_1, lst_2) #тест анова\n",
        "    return res_mw[1], res_kw[1],  anova[1]\n"
      ],
      "execution_count": null,
      "outputs": []
    },
    {
      "cell_type": "code",
      "metadata": {
        "colab": {
          "base_uri": "https://localhost:8080/"
        },
        "id": "TjH5wt1-ZznE",
        "outputId": "a4a7f83a-6761-4566-9072-6235846190fa"
      },
      "source": [
        "for sev in sevi:\n",
        "  df_s = data[data[sev] == 1]\n",
        "  df_m = data[data[sev] == 0]\n",
        "  for cat in columns:\n",
        "    lst1 = df_s[cat]\n",
        "    print('Данные {0}: мединана - {1}, квартиль 25 - {2},\\\n",
        "      квартиль 75 - {3}\\n '.format(cat,  lst1.median(), lst1.quantile(.25),\n",
        "      lst1.quantile(.75) ))\n",
        "    lst2 = df_m[cat]\n",
        "    print('Данные {0}: мединана - {1}, квартиль 25 - {2},\\\n",
        "      квартиль 75 - {3}\\n '.format(cat,  lst2.median(), lst2.quantile(.25),\n",
        "      lst2.quantile(.75) ))\n",
        "    mw =  Basic_statistics(lst1, lst2)[0]\n",
        "    kw =  Basic_statistics(lst1, lst2)[1]\n",
        "    an =  Basic_statistics(lst1, lst2)[2]\n",
        "    if mw < .05:\n",
        "      print('Данные {0} статисически значимо различаются в подгруппах,\\\n",
        "            p-value - {1}, тест Манна-Уитни \\n {2}'.format(cat,  mw, sev))\n",
        "    if kw < .05:\n",
        "      print('Данные {0} статисически значимо различаются в подгруппах,\\\n",
        "            p-value - {1}, тест Крускала-Уоллиса \\n {2}'.format(cat,  kw, sev))\n",
        "    if an < .05:\n",
        "      print('Данные {0} статисически значимо различаются в подгруппах,\\\n",
        "            p-value - {1}, тест Анова \\n {2}'.format(cat,  an, sev))\n",
        "    else:\n",
        "      pass"
      ],
      "execution_count": null,
      "outputs": [
        {
          "output_type": "stream",
          "text": [
            "Данные Max_Platlets: мединана - 356.0, квартиль 25 - 257.0,      квартиль 75 - 428.0\n",
            " \n",
            "Данные Max_Platlets: мединана - 319.0, квартиль 25 - 264.75,      квартиль 75 - 388.75\n",
            " \n",
            "Данные Max_ESR: мединана - 43.0, квартиль 25 - 32.0,      квартиль 75 - 54.0\n",
            " \n",
            "Данные Max_ESR: мединана - 29.0, квартиль 25 - 20.0,      квартиль 75 - 40.0\n",
            " \n",
            "Данные Max_ESR статисически значимо различаются в подгруппах,            p-value - 1.017593192860352e-06, тест Манна-Уитни \n",
            " Severity\n",
            "Данные Max_ESR статисически значимо различаются в подгруппах,            p-value - 2.0168734189727886e-06, тест Крускала-Уоллиса \n",
            " Severity\n",
            "Данные Max_ESR статисически значимо различаются в подгруппах,            p-value - 9.411831786218658e-07, тест Анова \n",
            " Severity\n",
            "Данные Max_Fibrinogen: мединана - 7.93, квартиль 25 - 6.93,      квартиль 75 - 9.5\n",
            " \n",
            "Данные Max_Fibrinogen: мединана - 6.505, квартиль 25 - 5.61,      квартиль 75 - 8.057500000000001\n",
            " \n",
            "Данные Max_Fibrinogen статисически значимо различаются в подгруппах,            p-value - 1.793721125982864e-05, тест Манна-Уитни \n",
            " Severity\n",
            "Данные Max_Fibrinogen статисически значимо различаются в подгруппах,            p-value - 3.5590254543831674e-05, тест Крускала-Уоллиса \n",
            " Severity\n",
            "Данные Max_Fibrinogen статисически значимо различаются в подгруппах,            p-value - 1.299218171250784e-05, тест Анова \n",
            " Severity\n",
            "Данные Max_LDH: мединана - 754.0, квартиль 25 - 616.0,      квартиль 75 - 970.0\n",
            " \n",
            "Данные Max_LDH: мединана - 529.0, квартиль 25 - 416.75,      квартиль 75 - 674.25\n",
            " \n",
            "Данные Max_LDH статисически значимо различаются в подгруппах,            p-value - 5.677301577588579e-08, тест Манна-Уитни \n",
            " Severity\n",
            "Данные Max_LDH статисически значимо различаются в подгруппах,            p-value - 1.1241461066699749e-07, тест Крускала-Уоллиса \n",
            " Severity\n",
            "Данные Max_LDH статисически значимо различаются в подгруппах,            p-value - 2.819973244973391e-06, тест Анова \n",
            " Severity\n",
            "Данные Max_Leucocytes: мединана - 11.76, квартиль 25 - 9.65,      квартиль 75 - 13.5\n",
            " \n",
            "Данные Max_Leucocytes: мединана - 8.795, квартиль 25 - 6.59,      квартиль 75 - 11.31\n",
            " \n",
            "Данные Max_Leucocytes статисически значимо различаются в подгруппах,            p-value - 0.0009607631269310642, тест Манна-Уитни \n",
            " Severity\n",
            "Данные Max_Leucocytes статисически значимо различаются в подгруппах,            p-value - 0.0019097009063360165, тест Крускала-Уоллиса \n",
            " Severity\n",
            "Данные Max_Creatinine: мединана - 106.0, квартиль 25 - 88.0,      квартиль 75 - 133.0\n",
            " \n",
            "Данные Max_Creatinine: мединана - 92.5, квартиль 25 - 74.0,      квартиль 75 - 110.0\n",
            " \n",
            "Данные Max_Creatinine статисически значимо различаются в подгруппах,            p-value - 0.001792519909951968, тест Манна-Уитни \n",
            " Severity\n",
            "Данные Max_Creatinine статисически значимо различаются в подгруппах,            p-value - 0.003564121154873315, тест Крускала-Уоллиса \n",
            " Severity\n",
            "Данные Max_Creatinine статисически значимо различаются в подгруппах,            p-value - 0.008023399332912132, тест Анова \n",
            " Severity\n",
            "Данные Max_CRP: мединана - 76.8, квартиль 25 - 48.3,      квартиль 75 - 167.2\n",
            " \n",
            "Данные Max_CRP: мединана - 34.35, квартиль 25 - 9.2,      квартиль 75 - 98.9\n",
            " \n",
            "Данные Max_CRP статисически значимо различаются в подгруппах,            p-value - 3.804263862053069e-06, тест Манна-Уитни \n",
            " Severity\n",
            "Данные Max_CRP статисически значимо различаются в подгруппах,            p-value - 7.543724561986061e-06, тест Крускала-Уоллиса \n",
            " Severity\n",
            "Данные Max_CRP статисически значимо различаются в подгруппах,            p-value - 2.0633669513176108e-05, тест Анова \n",
            " Severity\n",
            "Данные ALT: мединана - 74.0, квартиль 25 - 52.8,      квартиль 75 - 93.4\n",
            " \n",
            "Данные ALT: мединана - 47.8, квартиль 25 - 31.775,      квартиль 75 - 99.925\n",
            " \n",
            "Данные ALT статисически значимо различаются в подгруппах,            p-value - 0.005523096228570299, тест Манна-Уитни \n",
            " Severity\n",
            "Данные ALT статисически значимо различаются в подгруппах,            p-value - 0.010988603291252244, тест Крускала-Уоллиса \n",
            " Severity\n",
            "Данные AST: мединана - 42.5, квартиль 25 - 31.4,      квартиль 75 - 55.1\n",
            " \n",
            "Данные AST: мединана - 35.1, квартиль 25 - 26.0575,      квартиль 75 - 53.85\n",
            " \n",
            "Данные Age: мединана - 65.0, квартиль 25 - 54.0,      квартиль 75 - 76.0\n",
            " \n",
            "Данные Age: мединана - 61.0, квартиль 25 - 52.0,      квартиль 75 - 70.0\n",
            " \n"
          ],
          "name": "stdout"
        }
      ]
    },
    {
      "cell_type": "code",
      "metadata": {
        "colab": {
          "base_uri": "https://localhost:8080/"
        },
        "id": "SU43fVe7kHdz",
        "outputId": "ceb0568f-e2ab-435b-f8bf-d7d380dd8a69"
      },
      "source": [
        "categ = ['Gender',  \n",
        "         'IHD', 'COPD',\n",
        "        'Obesity', 'Diabetes']\n",
        "for cat in categ:\n",
        "  df_s = data[data['Severity'] == 1]\n",
        "  df_m = data[data['Severity'] == 0]\n",
        "  print(df_s[cat].value_counts(),\n",
        "        df_m[cat].value_counts()\n",
        "                  )"
      ],
      "execution_count": null,
      "outputs": [
        {
          "output_type": "stream",
          "text": [
            "0    30\n",
            "1    23\n",
            "Name: Gender, dtype: int64 1    59\n",
            "0    47\n",
            "Name: Gender, dtype: int64\n",
            "1.0    27\n",
            "0.0    26\n",
            "Name: IHD, dtype: int64 0.0    54\n",
            "1.0    52\n",
            "Name: IHD, dtype: int64\n",
            "0.0    52\n",
            "1.0     1\n",
            "Name: COPD, dtype: int64 0.0    101\n",
            "1.0      5\n",
            "Name: COPD, dtype: int64\n",
            "0.0    50\n",
            "1.0     3\n",
            "Name: Obesity, dtype: int64 0.0    103\n",
            "1.0      3\n",
            "Name: Obesity, dtype: int64\n",
            "0.0    49\n",
            "1.0     4\n",
            "Name: Diabetes, dtype: int64 0.0    102\n",
            "1.0      4\n",
            "Name: Diabetes, dtype: int64\n"
          ],
          "name": "stdout"
        }
      ]
    },
    {
      "cell_type": "code",
      "metadata": {
        "id": "-5s6aM3SOpu-"
      },
      "source": [
        "from scipy import stats\n",
        "stats.fisher_exact([[53, 4], [106,4]]) # категориальные данные сравнивались при помощи точного теста Фишера"
      ],
      "execution_count": null,
      "outputs": []
    },
    {
      "cell_type": "code",
      "metadata": {
        "colab": {
          "base_uri": "https://localhost:8080/"
        },
        "id": "il1V-ML_afnA",
        "outputId": "7aef41cd-5eca-4697-a52d-68ea3127a595"
      },
      "source": [
        "data = h2o.H2OFrame(data)\n"
      ],
      "execution_count": null,
      "outputs": [
        {
          "output_type": "stream",
          "text": [
            "Parse progress: |█████████████████████████████████████████████████████████| 100%\n"
          ],
          "name": "stdout"
        }
      ]
    },
    {
      "cell_type": "markdown",
      "metadata": {
        "id": "98z1TKt9OTY8"
      },
      "source": [
        "# Автоматическое машинное обучение\n",
        "целевой признак - тяжесть"
      ]
    },
    {
      "cell_type": "code",
      "metadata": {
        "id": "Ts9J4s2haoGL"
      },
      "source": [
        "predictors = ['Max_Platlets',  'Max_ESR',\n",
        "       'Max_Fibrinogen', 'Max_LDH',\n",
        "       'Max_Leucocytes',   'Max_Creatinine',\n",
        "      'Max_CRP', \n",
        "       'ALT', 'AST', 'Gender',  \n",
        "        'Pneumonia', 'IHD', 'COPD'\n",
        "        ,  'Bronchial_asthma', 'Obesity', 'Diabetes', \n",
        "       'Age'] # определяем признаки, которые будут использоваться в качестве предсказателей\n",
        " # убираем из этого списка целевую - \"Severity\"(Тяжесть)\n",
        "data['Severity'] = data['Severity'].asfactor() # определяем \"Severity\" как фактор, который нужно предсказать\n",
        "train, test = data.split_frame(seed = 42, ratios = [.8])\n",
        "target = 'Severity'"
      ],
      "execution_count": null,
      "outputs": []
    },
    {
      "cell_type": "code",
      "metadata": {
        "colab": {
          "base_uri": "https://localhost:8080/",
          "height": 582
        },
        "id": "PLYRijv7aoBS",
        "outputId": "ba1d6446-1174-44a6-d01c-ea9956006113"
      },
      "source": [
        "# Запускаем AUTOML\n",
        "aml = H2OAutoML(max_models=20, nfolds=5,\n",
        "                 seed=123, balance_classes=True)\n",
        "aml.train(x = predictors,\n",
        "           y = target,\n",
        "           training_frame = train)\n",
        "\n",
        "\n",
        "# View the AutoML Leaderboard\n",
        "lb = aml.leaderboard\n",
        "lb.head(rows=lb.nrows)  # Print all rows instead of default (10 rows)"
      ],
      "execution_count": null,
      "outputs": [
        {
          "output_type": "stream",
          "text": [
            "AutoML progress: |████████████\n",
            "09:22:34.369: Skipping training of model GBM_5_AutoML_20210321_092211 due to exception: water.exceptions.H2OModelBuilderIllegalArgumentException: Illegal argument(s) for GBM model: GBM_5_AutoML_20210321_092211.  Details: ERRR on field: _min_rows: The dataset size is too small to split for min_rows=100.0: must have at least 200.0 (weighted) rows, but have only 129.0.\n",
            "\n",
            "\n",
            "████████████████████████████████████████████| 100%\n"
          ],
          "name": "stdout"
        },
        {
          "output_type": "display_data",
          "data": {
            "text/html": [
              "<table>\n",
              "<thead>\n",
              "<tr><th>model_id                                           </th><th style=\"text-align: right;\">     auc</th><th style=\"text-align: right;\">  logloss</th><th style=\"text-align: right;\">   aucpr</th><th style=\"text-align: right;\">  mean_per_class_error</th><th style=\"text-align: right;\">    rmse</th><th style=\"text-align: right;\">     mse</th></tr>\n",
              "</thead>\n",
              "<tbody>\n",
              "<tr><td>GBM_grid__1_AutoML_20210321_092211_model_2         </td><td style=\"text-align: right;\">0.868717</td><td style=\"text-align: right;\"> 0.445135</td><td style=\"text-align: right;\">0.794797</td><td style=\"text-align: right;\">              0.202674</td><td style=\"text-align: right;\">0.382208</td><td style=\"text-align: right;\">0.146083</td></tr>\n",
              "<tr><td>GBM_4_AutoML_20210321_092211                       </td><td style=\"text-align: right;\">0.858824</td><td style=\"text-align: right;\"> 0.456246</td><td style=\"text-align: right;\">0.737765</td><td style=\"text-align: right;\">              0.213636</td><td style=\"text-align: right;\">0.389554</td><td style=\"text-align: right;\">0.151752</td></tr>\n",
              "<tr><td>GBM_3_AutoML_20210321_092211                       </td><td style=\"text-align: right;\">0.854278</td><td style=\"text-align: right;\"> 0.466238</td><td style=\"text-align: right;\">0.73168 </td><td style=\"text-align: right;\">              0.224198</td><td style=\"text-align: right;\">0.391054</td><td style=\"text-align: right;\">0.152923</td></tr>\n",
              "<tr><td>GBM_1_AutoML_20210321_092211                       </td><td style=\"text-align: right;\">0.850267</td><td style=\"text-align: right;\"> 0.500737</td><td style=\"text-align: right;\">0.789518</td><td style=\"text-align: right;\">              0.245856</td><td style=\"text-align: right;\">0.399539</td><td style=\"text-align: right;\">0.159631</td></tr>\n",
              "<tr><td>GBM_2_AutoML_20210321_092211                       </td><td style=\"text-align: right;\">0.844652</td><td style=\"text-align: right;\"> 0.478166</td><td style=\"text-align: right;\">0.731303</td><td style=\"text-align: right;\">              0.224198</td><td style=\"text-align: right;\">0.400245</td><td style=\"text-align: right;\">0.160196</td></tr>\n",
              "<tr><td>XRT_1_AutoML_20210321_092211                       </td><td style=\"text-align: right;\">0.844118</td><td style=\"text-align: right;\"> 0.453792</td><td style=\"text-align: right;\">0.759119</td><td style=\"text-align: right;\">              0.244251</td><td style=\"text-align: right;\">0.387615</td><td style=\"text-align: right;\">0.150245</td></tr>\n",
              "<tr><td>DRF_1_AutoML_20210321_092211                       </td><td style=\"text-align: right;\">0.836898</td><td style=\"text-align: right;\"> 0.466059</td><td style=\"text-align: right;\">0.741742</td><td style=\"text-align: right;\">              0.209358</td><td style=\"text-align: right;\">0.39487 </td><td style=\"text-align: right;\">0.155923</td></tr>\n",
              "<tr><td>GBM_grid__1_AutoML_20210321_092211_model_1         </td><td style=\"text-align: right;\">0.836364</td><td style=\"text-align: right;\"> 0.486502</td><td style=\"text-align: right;\">0.742692</td><td style=\"text-align: right;\">              0.240374</td><td style=\"text-align: right;\">0.403001</td><td style=\"text-align: right;\">0.16241 </td></tr>\n",
              "<tr><td>StackedEnsemble_BestOfFamily_AutoML_20210321_092211</td><td style=\"text-align: right;\">0.833155</td><td style=\"text-align: right;\"> 0.475924</td><td style=\"text-align: right;\">0.716751</td><td style=\"text-align: right;\">              0.21992 </td><td style=\"text-align: right;\">0.390192</td><td style=\"text-align: right;\">0.152249</td></tr>\n",
              "<tr><td>StackedEnsemble_AllModels_AutoML_20210321_092211   </td><td style=\"text-align: right;\">0.826471</td><td style=\"text-align: right;\"> 0.492403</td><td style=\"text-align: right;\">0.717201</td><td style=\"text-align: right;\">              0.220722</td><td style=\"text-align: right;\">0.401039</td><td style=\"text-align: right;\">0.160832</td></tr>\n",
              "<tr><td>XGBoost_3_AutoML_20210321_092211                   </td><td style=\"text-align: right;\">0.819786</td><td style=\"text-align: right;\"> 0.494532</td><td style=\"text-align: right;\">0.718059</td><td style=\"text-align: right;\">              0.247326</td><td style=\"text-align: right;\">0.403514</td><td style=\"text-align: right;\">0.162824</td></tr>\n",
              "<tr><td>XGBoost_grid__1_AutoML_20210321_092211_model_3     </td><td style=\"text-align: right;\">0.812567</td><td style=\"text-align: right;\"> 0.49522 </td><td style=\"text-align: right;\">0.699855</td><td style=\"text-align: right;\">              0.268583</td><td style=\"text-align: right;\">0.405139</td><td style=\"text-align: right;\">0.164137</td></tr>\n",
              "<tr><td>XGBoost_grid__1_AutoML_20210321_092211_model_5     </td><td style=\"text-align: right;\">0.805882</td><td style=\"text-align: right;\"> 0.515644</td><td style=\"text-align: right;\">0.707872</td><td style=\"text-align: right;\">              0.255615</td><td style=\"text-align: right;\">0.414279</td><td style=\"text-align: right;\">0.171627</td></tr>\n",
              "<tr><td>XGBoost_grid__1_AutoML_20210321_092211_model_4     </td><td style=\"text-align: right;\">0.784492</td><td style=\"text-align: right;\"> 0.552892</td><td style=\"text-align: right;\">0.672641</td><td style=\"text-align: right;\">              0.279545</td><td style=\"text-align: right;\">0.430023</td><td style=\"text-align: right;\">0.18492 </td></tr>\n",
              "<tr><td>XGBoost_grid__1_AutoML_20210321_092211_model_1     </td><td style=\"text-align: right;\">0.778743</td><td style=\"text-align: right;\"> 0.520998</td><td style=\"text-align: right;\">0.694295</td><td style=\"text-align: right;\">              0.316043</td><td style=\"text-align: right;\">0.417616</td><td style=\"text-align: right;\">0.174403</td></tr>\n",
              "<tr><td>DeepLearning_grid__1_AutoML_20210321_092211_model_1</td><td style=\"text-align: right;\">0.77754 </td><td style=\"text-align: right;\"> 0.89477 </td><td style=\"text-align: right;\">0.5853  </td><td style=\"text-align: right;\">              0.250936</td><td style=\"text-align: right;\">0.469003</td><td style=\"text-align: right;\">0.219964</td></tr>\n",
              "<tr><td>XGBoost_1_AutoML_20210321_092211                   </td><td style=\"text-align: right;\">0.775936</td><td style=\"text-align: right;\"> 0.524927</td><td style=\"text-align: right;\">0.673731</td><td style=\"text-align: right;\">              0.283824</td><td style=\"text-align: right;\">0.419578</td><td style=\"text-align: right;\">0.176046</td></tr>\n",
              "<tr><td>GLM_1_AutoML_20210321_092211                       </td><td style=\"text-align: right;\">0.774332</td><td style=\"text-align: right;\"> 0.566719</td><td style=\"text-align: right;\">0.580086</td><td style=\"text-align: right;\">              0.26885 </td><td style=\"text-align: right;\">0.433442</td><td style=\"text-align: right;\">0.187872</td></tr>\n",
              "<tr><td>DeepLearning_grid__2_AutoML_20210321_092211_model_1</td><td style=\"text-align: right;\">0.749198</td><td style=\"text-align: right;\"> 0.97417 </td><td style=\"text-align: right;\">0.564243</td><td style=\"text-align: right;\">              0.295187</td><td style=\"text-align: right;\">0.498631</td><td style=\"text-align: right;\">0.248633</td></tr>\n",
              "<tr><td>DeepLearning_1_AutoML_20210321_092211              </td><td style=\"text-align: right;\">0.698396</td><td style=\"text-align: right;\"> 0.74494 </td><td style=\"text-align: right;\">0.55227 </td><td style=\"text-align: right;\">              0.322594</td><td style=\"text-align: right;\">0.471307</td><td style=\"text-align: right;\">0.222131</td></tr>\n",
              "<tr><td>XGBoost_grid__1_AutoML_20210321_092211_model_2     </td><td style=\"text-align: right;\">0.428476</td><td style=\"text-align: right;\"> 0.648746</td><td style=\"text-align: right;\">0.299549</td><td style=\"text-align: right;\">              0.5     </td><td style=\"text-align: right;\">0.477336</td><td style=\"text-align: right;\">0.22785 </td></tr>\n",
              "<tr><td>XGBoost_2_AutoML_20210321_092211                   </td><td style=\"text-align: right;\">0.426872</td><td style=\"text-align: right;\"> 0.649792</td><td style=\"text-align: right;\">0.291816</td><td style=\"text-align: right;\">              0.5     </td><td style=\"text-align: right;\">0.477754</td><td style=\"text-align: right;\">0.228249</td></tr>\n",
              "</tbody>\n",
              "</table>"
            ]
          },
          "metadata": {
            "tags": []
          }
        },
        {
          "output_type": "execute_result",
          "data": {
            "text/plain": [
              ""
            ]
          },
          "metadata": {
            "tags": []
          },
          "execution_count": 10
        }
      ]
    },
    {
      "cell_type": "code",
      "metadata": {
        "colab": {
          "base_uri": "https://localhost:8080/",
          "height": 1000
        },
        "id": "Mej8g0GqbBoE",
        "outputId": "d54d69a7-c363-43a6-9f7f-afe0a51fc91e"
      },
      "source": [
        "aml.leader.model_performance(test) # качество модели на тестовой выборке"
      ],
      "execution_count": null,
      "outputs": [
        {
          "output_type": "stream",
          "text": [
            "\n",
            "ModelMetricsBinomial: gbm\n",
            "** Reported on test data. **\n",
            "\n",
            "MSE: 0.13919310347693914\n",
            "RMSE: 0.3730859196980491\n",
            "LogLoss: 0.4108262618798294\n",
            "Mean Per-Class Error: 0.17460317460317465\n",
            "AUC: 0.8730158730158729\n",
            "AUCPR: 0.7613106839896512\n",
            "Gini: 0.7460317460317458\n",
            "\n",
            "Confusion Matrix (Act/Pred) for max f1 @ threshold = 0.17681625584887997: \n"
          ],
          "name": "stdout"
        },
        {
          "output_type": "display_data",
          "data": {
            "text/html": [
              "<div>\n",
              "<style scoped>\n",
              "    .dataframe tbody tr th:only-of-type {\n",
              "        vertical-align: middle;\n",
              "    }\n",
              "\n",
              "    .dataframe tbody tr th {\n",
              "        vertical-align: top;\n",
              "    }\n",
              "\n",
              "    .dataframe thead th {\n",
              "        text-align: right;\n",
              "    }\n",
              "</style>\n",
              "<table border=\"1\" class=\"dataframe\">\n",
              "  <thead>\n",
              "    <tr style=\"text-align: right;\">\n",
              "      <th></th>\n",
              "      <th></th>\n",
              "      <th>0</th>\n",
              "      <th>1</th>\n",
              "      <th>Error</th>\n",
              "      <th>Rate</th>\n",
              "    </tr>\n",
              "  </thead>\n",
              "  <tbody>\n",
              "    <tr>\n",
              "      <th>0</th>\n",
              "      <td>0</td>\n",
              "      <td>16.0</td>\n",
              "      <td>5.0</td>\n",
              "      <td>0.2381</td>\n",
              "      <td>(5.0/21.0)</td>\n",
              "    </tr>\n",
              "    <tr>\n",
              "      <th>1</th>\n",
              "      <td>1</td>\n",
              "      <td>1.0</td>\n",
              "      <td>8.0</td>\n",
              "      <td>0.1111</td>\n",
              "      <td>(1.0/9.0)</td>\n",
              "    </tr>\n",
              "    <tr>\n",
              "      <th>2</th>\n",
              "      <td>Total</td>\n",
              "      <td>17.0</td>\n",
              "      <td>13.0</td>\n",
              "      <td>0.2</td>\n",
              "      <td>(6.0/30.0)</td>\n",
              "    </tr>\n",
              "  </tbody>\n",
              "</table>\n",
              "</div>"
            ],
            "text/plain": [
              "             0     1   Error         Rate\n",
              "0      0  16.0   5.0  0.2381   (5.0/21.0)\n",
              "1      1   1.0   8.0  0.1111    (1.0/9.0)\n",
              "2  Total  17.0  13.0     0.2   (6.0/30.0)"
            ]
          },
          "metadata": {
            "tags": []
          }
        },
        {
          "output_type": "stream",
          "text": [
            "\n",
            "Maximum Metrics: Maximum metrics at their respective thresholds\n"
          ],
          "name": "stdout"
        },
        {
          "output_type": "display_data",
          "data": {
            "text/html": [
              "<div>\n",
              "<style scoped>\n",
              "    .dataframe tbody tr th:only-of-type {\n",
              "        vertical-align: middle;\n",
              "    }\n",
              "\n",
              "    .dataframe tbody tr th {\n",
              "        vertical-align: top;\n",
              "    }\n",
              "\n",
              "    .dataframe thead th {\n",
              "        text-align: right;\n",
              "    }\n",
              "</style>\n",
              "<table border=\"1\" class=\"dataframe\">\n",
              "  <thead>\n",
              "    <tr style=\"text-align: right;\">\n",
              "      <th></th>\n",
              "      <th>metric</th>\n",
              "      <th>threshold</th>\n",
              "      <th>value</th>\n",
              "      <th>idx</th>\n",
              "    </tr>\n",
              "  </thead>\n",
              "  <tbody>\n",
              "    <tr>\n",
              "      <th>0</th>\n",
              "      <td>max f1</td>\n",
              "      <td>0.176816</td>\n",
              "      <td>0.727273</td>\n",
              "      <td>12.0</td>\n",
              "    </tr>\n",
              "    <tr>\n",
              "      <th>1</th>\n",
              "      <td>max f2</td>\n",
              "      <td>0.062971</td>\n",
              "      <td>0.833333</td>\n",
              "      <td>17.0</td>\n",
              "    </tr>\n",
              "    <tr>\n",
              "      <th>2</th>\n",
              "      <td>max f0point5</td>\n",
              "      <td>0.446882</td>\n",
              "      <td>0.731707</td>\n",
              "      <td>7.0</td>\n",
              "    </tr>\n",
              "    <tr>\n",
              "      <th>3</th>\n",
              "      <td>max accuracy</td>\n",
              "      <td>0.446882</td>\n",
              "      <td>0.833333</td>\n",
              "      <td>7.0</td>\n",
              "    </tr>\n",
              "    <tr>\n",
              "      <th>4</th>\n",
              "      <td>max precision</td>\n",
              "      <td>0.987421</td>\n",
              "      <td>1.000000</td>\n",
              "      <td>0.0</td>\n",
              "    </tr>\n",
              "    <tr>\n",
              "      <th>5</th>\n",
              "      <td>max recall</td>\n",
              "      <td>0.062971</td>\n",
              "      <td>1.000000</td>\n",
              "      <td>17.0</td>\n",
              "    </tr>\n",
              "    <tr>\n",
              "      <th>6</th>\n",
              "      <td>max specificity</td>\n",
              "      <td>0.987421</td>\n",
              "      <td>1.000000</td>\n",
              "      <td>0.0</td>\n",
              "    </tr>\n",
              "    <tr>\n",
              "      <th>7</th>\n",
              "      <td>max absolute_mcc</td>\n",
              "      <td>0.176816</td>\n",
              "      <td>0.601836</td>\n",
              "      <td>12.0</td>\n",
              "    </tr>\n",
              "    <tr>\n",
              "      <th>8</th>\n",
              "      <td>max min_per_class_accuracy</td>\n",
              "      <td>0.189144</td>\n",
              "      <td>0.761905</td>\n",
              "      <td>11.0</td>\n",
              "    </tr>\n",
              "    <tr>\n",
              "      <th>9</th>\n",
              "      <td>max mean_per_class_accuracy</td>\n",
              "      <td>0.176816</td>\n",
              "      <td>0.825397</td>\n",
              "      <td>12.0</td>\n",
              "    </tr>\n",
              "    <tr>\n",
              "      <th>10</th>\n",
              "      <td>max tns</td>\n",
              "      <td>0.987421</td>\n",
              "      <td>21.000000</td>\n",
              "      <td>0.0</td>\n",
              "    </tr>\n",
              "    <tr>\n",
              "      <th>11</th>\n",
              "      <td>max fns</td>\n",
              "      <td>0.987421</td>\n",
              "      <td>8.000000</td>\n",
              "      <td>0.0</td>\n",
              "    </tr>\n",
              "    <tr>\n",
              "      <th>12</th>\n",
              "      <td>max fps</td>\n",
              "      <td>0.003008</td>\n",
              "      <td>21.000000</td>\n",
              "      <td>29.0</td>\n",
              "    </tr>\n",
              "    <tr>\n",
              "      <th>13</th>\n",
              "      <td>max tps</td>\n",
              "      <td>0.062971</td>\n",
              "      <td>9.000000</td>\n",
              "      <td>17.0</td>\n",
              "    </tr>\n",
              "    <tr>\n",
              "      <th>14</th>\n",
              "      <td>max tnr</td>\n",
              "      <td>0.987421</td>\n",
              "      <td>1.000000</td>\n",
              "      <td>0.0</td>\n",
              "    </tr>\n",
              "    <tr>\n",
              "      <th>15</th>\n",
              "      <td>max fnr</td>\n",
              "      <td>0.987421</td>\n",
              "      <td>0.888889</td>\n",
              "      <td>0.0</td>\n",
              "    </tr>\n",
              "    <tr>\n",
              "      <th>16</th>\n",
              "      <td>max fpr</td>\n",
              "      <td>0.003008</td>\n",
              "      <td>1.000000</td>\n",
              "      <td>29.0</td>\n",
              "    </tr>\n",
              "    <tr>\n",
              "      <th>17</th>\n",
              "      <td>max tpr</td>\n",
              "      <td>0.062971</td>\n",
              "      <td>1.000000</td>\n",
              "      <td>17.0</td>\n",
              "    </tr>\n",
              "  </tbody>\n",
              "</table>\n",
              "</div>"
            ],
            "text/plain": [
              "                         metric  threshold      value   idx\n",
              "0                        max f1   0.176816   0.727273  12.0\n",
              "1                        max f2   0.062971   0.833333  17.0\n",
              "2                  max f0point5   0.446882   0.731707   7.0\n",
              "3                  max accuracy   0.446882   0.833333   7.0\n",
              "4                 max precision   0.987421   1.000000   0.0\n",
              "5                    max recall   0.062971   1.000000  17.0\n",
              "6               max specificity   0.987421   1.000000   0.0\n",
              "7              max absolute_mcc   0.176816   0.601836  12.0\n",
              "8    max min_per_class_accuracy   0.189144   0.761905  11.0\n",
              "9   max mean_per_class_accuracy   0.176816   0.825397  12.0\n",
              "10                      max tns   0.987421  21.000000   0.0\n",
              "11                      max fns   0.987421   8.000000   0.0\n",
              "12                      max fps   0.003008  21.000000  29.0\n",
              "13                      max tps   0.062971   9.000000  17.0\n",
              "14                      max tnr   0.987421   1.000000   0.0\n",
              "15                      max fnr   0.987421   0.888889   0.0\n",
              "16                      max fpr   0.003008   1.000000  29.0\n",
              "17                      max tpr   0.062971   1.000000  17.0"
            ]
          },
          "metadata": {
            "tags": []
          }
        },
        {
          "output_type": "stream",
          "text": [
            "\n",
            "Gains/Lift Table: Avg response rate: 30.00 %, avg score: 26.49 %\n"
          ],
          "name": "stdout"
        },
        {
          "output_type": "display_data",
          "data": {
            "text/html": [
              "<div>\n",
              "<style scoped>\n",
              "    .dataframe tbody tr th:only-of-type {\n",
              "        vertical-align: middle;\n",
              "    }\n",
              "\n",
              "    .dataframe tbody tr th {\n",
              "        vertical-align: top;\n",
              "    }\n",
              "\n",
              "    .dataframe thead th {\n",
              "        text-align: right;\n",
              "    }\n",
              "</style>\n",
              "<table border=\"1\" class=\"dataframe\">\n",
              "  <thead>\n",
              "    <tr style=\"text-align: right;\">\n",
              "      <th></th>\n",
              "      <th>group</th>\n",
              "      <th>cumulative_data_fraction</th>\n",
              "      <th>lower_threshold</th>\n",
              "      <th>lift</th>\n",
              "      <th>cumulative_lift</th>\n",
              "      <th>response_rate</th>\n",
              "      <th>score</th>\n",
              "      <th>cumulative_response_rate</th>\n",
              "      <th>cumulative_score</th>\n",
              "      <th>capture_rate</th>\n",
              "      <th>cumulative_capture_rate</th>\n",
              "      <th>gain</th>\n",
              "      <th>cumulative_gain</th>\n",
              "      <th>kolmogorov_smirnov</th>\n",
              "    </tr>\n",
              "  </thead>\n",
              "  <tbody>\n",
              "    <tr>\n",
              "      <th>0</th>\n",
              "      <td>1</td>\n",
              "      <td>0.033333</td>\n",
              "      <td>0.985094</td>\n",
              "      <td>3.333333</td>\n",
              "      <td>3.333333</td>\n",
              "      <td>1.000000</td>\n",
              "      <td>0.987421</td>\n",
              "      <td>1.000000</td>\n",
              "      <td>0.987421</td>\n",
              "      <td>0.111111</td>\n",
              "      <td>0.111111</td>\n",
              "      <td>233.333333</td>\n",
              "      <td>233.333333</td>\n",
              "      <td>0.111111</td>\n",
              "    </tr>\n",
              "    <tr>\n",
              "      <th>1</th>\n",
              "      <td>2</td>\n",
              "      <td>0.033333</td>\n",
              "      <td>0.982766</td>\n",
              "      <td>0.000000</td>\n",
              "      <td>3.333333</td>\n",
              "      <td>0.000000</td>\n",
              "      <td>0.000000</td>\n",
              "      <td>1.000000</td>\n",
              "      <td>0.987421</td>\n",
              "      <td>0.000000</td>\n",
              "      <td>0.111111</td>\n",
              "      <td>-100.000000</td>\n",
              "      <td>233.333333</td>\n",
              "      <td>0.111111</td>\n",
              "    </tr>\n",
              "    <tr>\n",
              "      <th>2</th>\n",
              "      <td>3</td>\n",
              "      <td>0.033333</td>\n",
              "      <td>0.980438</td>\n",
              "      <td>0.000000</td>\n",
              "      <td>3.333333</td>\n",
              "      <td>0.000000</td>\n",
              "      <td>0.000000</td>\n",
              "      <td>1.000000</td>\n",
              "      <td>0.987421</td>\n",
              "      <td>0.000000</td>\n",
              "      <td>0.111111</td>\n",
              "      <td>-100.000000</td>\n",
              "      <td>233.333333</td>\n",
              "      <td>0.111111</td>\n",
              "    </tr>\n",
              "    <tr>\n",
              "      <th>3</th>\n",
              "      <td>4</td>\n",
              "      <td>0.066667</td>\n",
              "      <td>0.979267</td>\n",
              "      <td>3.333333</td>\n",
              "      <td>3.333333</td>\n",
              "      <td>1.000000</td>\n",
              "      <td>0.979395</td>\n",
              "      <td>1.000000</td>\n",
              "      <td>0.983408</td>\n",
              "      <td>0.111111</td>\n",
              "      <td>0.222222</td>\n",
              "      <td>233.333333</td>\n",
              "      <td>233.333333</td>\n",
              "      <td>0.222222</td>\n",
              "    </tr>\n",
              "    <tr>\n",
              "      <th>4</th>\n",
              "      <td>5</td>\n",
              "      <td>0.066667</td>\n",
              "      <td>0.979035</td>\n",
              "      <td>0.000000</td>\n",
              "      <td>3.333333</td>\n",
              "      <td>0.000000</td>\n",
              "      <td>0.000000</td>\n",
              "      <td>1.000000</td>\n",
              "      <td>0.983408</td>\n",
              "      <td>0.000000</td>\n",
              "      <td>0.222222</td>\n",
              "      <td>-100.000000</td>\n",
              "      <td>233.333333</td>\n",
              "      <td>0.222222</td>\n",
              "    </tr>\n",
              "    <tr>\n",
              "      <th>5</th>\n",
              "      <td>6</td>\n",
              "      <td>0.100000</td>\n",
              "      <td>0.859135</td>\n",
              "      <td>3.333333</td>\n",
              "      <td>3.333333</td>\n",
              "      <td>1.000000</td>\n",
              "      <td>0.978595</td>\n",
              "      <td>1.000000</td>\n",
              "      <td>0.981804</td>\n",
              "      <td>0.111111</td>\n",
              "      <td>0.333333</td>\n",
              "      <td>233.333333</td>\n",
              "      <td>233.333333</td>\n",
              "      <td>0.333333</td>\n",
              "    </tr>\n",
              "    <tr>\n",
              "      <th>6</th>\n",
              "      <td>7</td>\n",
              "      <td>0.166667</td>\n",
              "      <td>0.683228</td>\n",
              "      <td>1.666667</td>\n",
              "      <td>2.666667</td>\n",
              "      <td>0.500000</td>\n",
              "      <td>0.816945</td>\n",
              "      <td>0.800000</td>\n",
              "      <td>0.915860</td>\n",
              "      <td>0.111111</td>\n",
              "      <td>0.444444</td>\n",
              "      <td>66.666667</td>\n",
              "      <td>166.666667</td>\n",
              "      <td>0.396825</td>\n",
              "    </tr>\n",
              "    <tr>\n",
              "      <th>7</th>\n",
              "      <td>8</td>\n",
              "      <td>0.200000</td>\n",
              "      <td>0.476975</td>\n",
              "      <td>0.000000</td>\n",
              "      <td>2.222222</td>\n",
              "      <td>0.000000</td>\n",
              "      <td>0.488600</td>\n",
              "      <td>0.666667</td>\n",
              "      <td>0.844650</td>\n",
              "      <td>0.000000</td>\n",
              "      <td>0.444444</td>\n",
              "      <td>-100.000000</td>\n",
              "      <td>122.222222</td>\n",
              "      <td>0.349206</td>\n",
              "    </tr>\n",
              "    <tr>\n",
              "      <th>8</th>\n",
              "      <td>9</td>\n",
              "      <td>0.300000</td>\n",
              "      <td>0.368286</td>\n",
              "      <td>2.222222</td>\n",
              "      <td>2.222222</td>\n",
              "      <td>0.666667</td>\n",
              "      <td>0.434513</td>\n",
              "      <td>0.666667</td>\n",
              "      <td>0.707938</td>\n",
              "      <td>0.222222</td>\n",
              "      <td>0.666667</td>\n",
              "      <td>122.222222</td>\n",
              "      <td>122.222222</td>\n",
              "      <td>0.523810</td>\n",
              "    </tr>\n",
              "    <tr>\n",
              "      <th>9</th>\n",
              "      <td>10</td>\n",
              "      <td>0.400000</td>\n",
              "      <td>0.181747</td>\n",
              "      <td>1.111111</td>\n",
              "      <td>1.944444</td>\n",
              "      <td>0.333333</td>\n",
              "      <td>0.261720</td>\n",
              "      <td>0.583333</td>\n",
              "      <td>0.596383</td>\n",
              "      <td>0.111111</td>\n",
              "      <td>0.777778</td>\n",
              "      <td>11.111111</td>\n",
              "      <td>94.444444</td>\n",
              "      <td>0.539683</td>\n",
              "    </tr>\n",
              "    <tr>\n",
              "      <th>10</th>\n",
              "      <td>11</td>\n",
              "      <td>0.500000</td>\n",
              "      <td>0.105354</td>\n",
              "      <td>1.111111</td>\n",
              "      <td>1.777778</td>\n",
              "      <td>0.333333</td>\n",
              "      <td>0.143696</td>\n",
              "      <td>0.533333</td>\n",
              "      <td>0.505846</td>\n",
              "      <td>0.111111</td>\n",
              "      <td>0.888889</td>\n",
              "      <td>11.111111</td>\n",
              "      <td>77.777778</td>\n",
              "      <td>0.555556</td>\n",
              "    </tr>\n",
              "    <tr>\n",
              "      <th>11</th>\n",
              "      <td>12</td>\n",
              "      <td>0.600000</td>\n",
              "      <td>0.048482</td>\n",
              "      <td>1.111111</td>\n",
              "      <td>1.666667</td>\n",
              "      <td>0.333333</td>\n",
              "      <td>0.074421</td>\n",
              "      <td>0.500000</td>\n",
              "      <td>0.433942</td>\n",
              "      <td>0.111111</td>\n",
              "      <td>1.000000</td>\n",
              "      <td>11.111111</td>\n",
              "      <td>66.666667</td>\n",
              "      <td>0.571429</td>\n",
              "    </tr>\n",
              "    <tr>\n",
              "      <th>12</th>\n",
              "      <td>13</td>\n",
              "      <td>0.700000</td>\n",
              "      <td>0.018287</td>\n",
              "      <td>0.000000</td>\n",
              "      <td>1.428571</td>\n",
              "      <td>0.000000</td>\n",
              "      <td>0.022839</td>\n",
              "      <td>0.428571</td>\n",
              "      <td>0.375213</td>\n",
              "      <td>0.000000</td>\n",
              "      <td>1.000000</td>\n",
              "      <td>-100.000000</td>\n",
              "      <td>42.857143</td>\n",
              "      <td>0.428571</td>\n",
              "    </tr>\n",
              "    <tr>\n",
              "      <th>13</th>\n",
              "      <td>14</td>\n",
              "      <td>0.800000</td>\n",
              "      <td>0.010828</td>\n",
              "      <td>0.000000</td>\n",
              "      <td>1.250000</td>\n",
              "      <td>0.000000</td>\n",
              "      <td>0.013824</td>\n",
              "      <td>0.375000</td>\n",
              "      <td>0.330039</td>\n",
              "      <td>0.000000</td>\n",
              "      <td>1.000000</td>\n",
              "      <td>-100.000000</td>\n",
              "      <td>25.000000</td>\n",
              "      <td>0.285714</td>\n",
              "    </tr>\n",
              "    <tr>\n",
              "      <th>14</th>\n",
              "      <td>15</td>\n",
              "      <td>0.900000</td>\n",
              "      <td>0.004503</td>\n",
              "      <td>0.000000</td>\n",
              "      <td>1.111111</td>\n",
              "      <td>0.000000</td>\n",
              "      <td>0.005422</td>\n",
              "      <td>0.333333</td>\n",
              "      <td>0.293971</td>\n",
              "      <td>0.000000</td>\n",
              "      <td>1.000000</td>\n",
              "      <td>-100.000000</td>\n",
              "      <td>11.111111</td>\n",
              "      <td>0.142857</td>\n",
              "    </tr>\n",
              "    <tr>\n",
              "      <th>15</th>\n",
              "      <td>16</td>\n",
              "      <td>1.000000</td>\n",
              "      <td>0.003008</td>\n",
              "      <td>0.000000</td>\n",
              "      <td>1.000000</td>\n",
              "      <td>0.000000</td>\n",
              "      <td>0.003747</td>\n",
              "      <td>0.300000</td>\n",
              "      <td>0.264948</td>\n",
              "      <td>0.000000</td>\n",
              "      <td>1.000000</td>\n",
              "      <td>-100.000000</td>\n",
              "      <td>0.000000</td>\n",
              "      <td>0.000000</td>\n",
              "    </tr>\n",
              "  </tbody>\n",
              "</table>\n",
              "</div>"
            ],
            "text/plain": [
              "    group  cumulative_data_fraction  ...  cumulative_gain  kolmogorov_smirnov\n",
              "0       1                  0.033333  ...       233.333333            0.111111\n",
              "1       2                  0.033333  ...       233.333333            0.111111\n",
              "2       3                  0.033333  ...       233.333333            0.111111\n",
              "3       4                  0.066667  ...       233.333333            0.222222\n",
              "4       5                  0.066667  ...       233.333333            0.222222\n",
              "5       6                  0.100000  ...       233.333333            0.333333\n",
              "6       7                  0.166667  ...       166.666667            0.396825\n",
              "7       8                  0.200000  ...       122.222222            0.349206\n",
              "8       9                  0.300000  ...       122.222222            0.523810\n",
              "9      10                  0.400000  ...        94.444444            0.539683\n",
              "10     11                  0.500000  ...        77.777778            0.555556\n",
              "11     12                  0.600000  ...        66.666667            0.571429\n",
              "12     13                  0.700000  ...        42.857143            0.428571\n",
              "13     14                  0.800000  ...        25.000000            0.285714\n",
              "14     15                  0.900000  ...        11.111111            0.142857\n",
              "15     16                  1.000000  ...         0.000000            0.000000\n",
              "\n",
              "[16 rows x 14 columns]"
            ]
          },
          "metadata": {
            "tags": []
          }
        },
        {
          "output_type": "stream",
          "text": [
            "\n"
          ],
          "name": "stdout"
        },
        {
          "output_type": "execute_result",
          "data": {
            "text/plain": [
              ""
            ]
          },
          "metadata": {
            "tags": []
          },
          "execution_count": 11
        }
      ]
    },
    {
      "cell_type": "code",
      "metadata": {
        "id": "BDBaFHOGbzgV",
        "colab": {
          "base_uri": "https://localhost:8080/",
          "height": 594
        },
        "outputId": "fd3341b6-017d-4444-a98e-d7d8bf411d3c"
      },
      "source": [
        "aml.leader.varimp_plot() # важность признаков для построения модели"
      ],
      "execution_count": null,
      "outputs": [
        {
          "output_type": "display_data",
          "data": {
            "image/png": "[encoded data removed]",
            "text/plain": [
              "<Figure size 1008x720 with 1 Axes>"
            ]
          },
          "metadata": {
            "tags": [],
            "needs_background": "light"
          }
        }
      ]
    },
    {
      "cell_type": "code",
      "metadata": {
        "id": "fRtYbzdLWn2s"
      },
      "source": [
        ""
      ],
      "execution_count": null,
      "outputs": []
    }
  ]
}